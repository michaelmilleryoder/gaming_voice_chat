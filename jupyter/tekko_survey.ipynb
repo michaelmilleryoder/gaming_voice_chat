{
 "cells": [
  {
   "cell_type": "markdown",
   "id": "0f0103ef-5112-4d67-8fa6-fd745a4a78ae",
   "metadata": {},
   "source": [
    "# Visualize Likert scale responses"
   ]
  },
  {
   "cell_type": "markdown",
   "id": "c352d470-b6f7-4ed4-9766-157faef25881",
   "metadata": {},
   "source": [
    "## Load data"
   ]
  },
  {
   "cell_type": "code",
   "execution_count": 1,
   "id": "76b83800-4be7-40c7-a3d3-8e535229ce29",
   "metadata": {
    "scrolled": true
   },
   "outputs": [
    {
     "name": "stdout",
     "output_type": "stream",
     "text": [
      "<class 'pandas.core.frame.DataFrame'>\n",
      "RangeIndex: 175 entries, 0 to 174\n",
      "Data columns (total 46 columns):\n",
      " #   Column                                                                                                                                                                                                                        Non-Null Count  Dtype  \n",
      "---  ------                                                                                                                                                                                                                        --------------  -----  \n",
      " 0   Response ID                                                                                                                                                                                                                   175 non-null    object \n",
      " 1   concrete experience                                                                                                                                                                                                           137 non-null    object \n",
      " 2   User Language                                                                                                                                                                                                                 175 non-null    object \n",
      " 3   I have reviewed the eligibility requirements listed in the Participant Requirements section of this consent form and certify that I am eligible to participate in this research, to the best of my knowledge.                 175 non-null    object \n",
      " 4   I am age 18 or older.                                                                                                                                                                                                         175 non-null    object \n",
      " 5   I have read and understand the information above.                                                                                                                                                                             175 non-null    object \n",
      " 6   I want to participate in this research and continue with the survey.                                                                                                                                                          175 non-null    object \n",
      " 7   How long have you been an active competitive video game player?                                                                                                                                                               175 non-null    object \n",
      " 8   What is your main motivation for playing competitive video games? - Selected Choice                                                                                                                                           175 non-null    object \n",
      " 9   What is your main motivation for playing competitive video games? - Other (please specify) - Text                                                                                                                             5 non-null      object \n",
      " 10  Which of the following competitive games do you most frequently play?  Please check all that apply. - Selected Choice                                                                                                         175 non-null    object \n",
      " 11  Which of the following competitive games do you most frequently play?  Please check all that apply. - Other (please specify) - Text                                                                                           49 non-null     object \n",
      " 12  Which developer do you think does the most to promote a positive competitive playing environment? - Selected Choice                                                                                                           175 non-null    object \n",
      " 13  Which developer do you think does the most to promote a positive competitive playing environment? - Other - Text                                                                                                              10 non-null     object \n",
      " 14  What is the best way a developer has promoted a positive competitive playing environment?                                                                                                                                     174 non-null    object \n",
      " 15  How many hours per week do you typically spend playing competitive video games?                                                                                                                                               175 non-null    object \n",
      " 16  Do you have an Alexa or Google Home in your house?                                                                                                                                                                            152 non-null    object \n",
      " 17  How comfortable do you feel about voice chats being recorded and saved for the following: - Data Analytics                                                                                                                    152 non-null    float64\n",
      " 18  How comfortable do you feel about voice chats being recorded and saved for the following: - Reporting cheating                                                                                                                152 non-null    object \n",
      " 19  How comfortable do you feel about voice chats being recorded and saved for the following: - Reporting toxicity or discrimination                                                                                              152 non-null    object \n",
      " 20  How often do you experience the following in multiplayer games? - Smurfing                                                                                                                                                    152 non-null    object \n",
      " 21  How often do you experience the following in multiplayer games? - Bots                                                                                                                                                        152 non-null    object \n",
      " 22  How often do you experience the following in multiplayer games? - Wall or aim hacks                                                                                                                                           152 non-null    object \n",
      " 23  What type of cheating appears the most in your online competitive games?                                                                                                                                                      151 non-null    object \n",
      " 24  How often do you see the following appear in multiplayer matches? - Ableism (anti-disability) rhetoric                                                                                                                        152 non-null    object \n",
      " 25  How often do you see the following appear in multiplayer matches? - Anti-LGBTQ+ slurs                                                                                                                                         152 non-null    object \n",
      " 26  How often do you see the following appear in multiplayer matches? - Anti-Jewish slurs                                                                                                                                         152 non-null    object \n",
      " 27  How often do you see the following appear in multiplayer matches? - Anti-Muslim slurs                                                                                                                                         152 non-null    object \n",
      " 28  How often do you see the following appear in multiplayer matches? - Gender-based discrimination or misogyny                                                                                                                   152 non-null    object \n",
      " 29  How often do you see the following appear in multiplayer matches? - Racial Harrassment                                                                                                                                        152 non-null    object \n",
      " 30  What are some examples of ways you see discrimination or hate appearing in online gaming communities?                                                                                                                         151 non-null    object \n",
      " 31  harmful action                                                                                                                                                                                                                86 non-null     object \n",
      " 32  identity[s] targeted                                                                                                                                                                                                          71 non-null     object \n",
      " 33  What do you think game developers should do to reduce the prevalence of hate on their platforms?                                                                                                                              151 non-null    object \n",
      " 34  If you have any other thoughts or experiences about hate or discrimination in online gaming communities, please share them here.                                                                                              75 non-null     object \n",
      " 35  Please provide your age:                                                                                                                                                                                                      152 non-null    float64\n",
      " 36  How do you describe your race or ethnic identity? (select all that apply) - Selected Choice                                                                                                                                   152 non-null    object \n",
      " 37  How do you describe your race or ethnic identity? (select all that apply) - Prefer to self-describe - Text                                                                                                                    2 non-null      object \n",
      " 38  What is your gender? - Selected Choice                                                                                                                                                                                        152 non-null    object \n",
      " 39  What is your gender? - Prefer to self-describe - Text                                                                                                                                                                         2 non-null      object \n",
      " 40  One more thing… We plan to do followup surveys and/or interviews on this topic, would you be willing to provide your email address so that we can invite you to participate?  We won’t use your email for any other purpose.  152 non-null    object \n",
      " 41  PARTICIPANTID                                                                                                                                                                                                                 175 non-null    int64  \n",
      " 42  coder                                                                                                                                                                                                                         175 non-null    object \n",
      " 43  discrimination_code                                                                                                                                                                                                           122 non-null    object \n",
      " 44  star                                                                                                                                                                                                                          5 non-null      object \n",
      " 45  experience affected behavior                                                                                                                                                                                                  7 non-null      object \n",
      "dtypes: float64(2), int64(1), object(43)\n",
      "memory usage: 63.0+ KB\n"
     ]
    }
   ],
   "source": [
    "# Load Tekko survey data\n",
    "import pandas as pd\n",
    "\n",
    "path = '../data/tekko_responses.csv'\n",
    "responses = pd.read_csv(path)\n",
    "responses.info()"
   ]
  },
  {
   "cell_type": "markdown",
   "id": "2b7607d5-c52f-44c5-9607-716d539de5ac",
   "metadata": {},
   "source": [
    "## Select data, plots for discrimination"
   ]
  },
  {
   "cell_type": "markdown",
   "id": "e8153a39-7561-4af6-9d84-ded6fd577548",
   "metadata": {},
   "source": [
    "### Overall"
   ]
  },
  {
   "cell_type": "code",
   "execution_count": 36,
   "id": "1a13b469-b16c-49d4-9ce2-6d0a2fa39dd2",
   "metadata": {},
   "outputs": [
    {
     "name": "stdout",
     "output_type": "stream",
     "text": [
      "<class 'pandas.core.frame.DataFrame'>\n",
      "Index: 152 entries, 23 to 174\n",
      "Data columns (total 6 columns):\n",
      " #   Column                                                                                                       Non-Null Count  Dtype \n",
      "---  ------                                                                                                       --------------  ----- \n",
      " 0   How often do you see the following appear in multiplayer matches? - Ableism (anti-disability) rhetoric       152 non-null    object\n",
      " 1   How often do you see the following appear in multiplayer matches? - Anti-LGBTQ+ slurs                        152 non-null    object\n",
      " 2   How often do you see the following appear in multiplayer matches? - Anti-Jewish slurs                        152 non-null    object\n",
      " 3   How often do you see the following appear in multiplayer matches? - Anti-Muslim slurs                        152 non-null    object\n",
      " 4   How often do you see the following appear in multiplayer matches? - Gender-based discrimination or misogyny  152 non-null    object\n",
      " 5   How often do you see the following appear in multiplayer matches? - Racial Harrassment                       152 non-null    object\n",
      "dtypes: object(6)\n",
      "memory usage: 8.3+ KB\n"
     ]
    },
    {
     "data": {
      "text/html": [
       "<div>\n",
       "<style scoped>\n",
       "    .dataframe tbody tr th:only-of-type {\n",
       "        vertical-align: middle;\n",
       "    }\n",
       "\n",
       "    .dataframe tbody tr th {\n",
       "        vertical-align: top;\n",
       "    }\n",
       "\n",
       "    .dataframe thead th {\n",
       "        text-align: right;\n",
       "    }\n",
       "</style>\n",
       "<table border=\"1\" class=\"dataframe\">\n",
       "  <thead>\n",
       "    <tr style=\"text-align: right;\">\n",
       "      <th></th>\n",
       "      <th>How often do you see the following appear in multiplayer matches? - Ableism (anti-disability) rhetoric</th>\n",
       "      <th>How often do you see the following appear in multiplayer matches? - Anti-LGBTQ+ slurs</th>\n",
       "      <th>How often do you see the following appear in multiplayer matches? - Anti-Jewish slurs</th>\n",
       "      <th>How often do you see the following appear in multiplayer matches? - Anti-Muslim slurs</th>\n",
       "      <th>How often do you see the following appear in multiplayer matches? - Gender-based discrimination or misogyny</th>\n",
       "      <th>How often do you see the following appear in multiplayer matches? - Racial Harrassment</th>\n",
       "    </tr>\n",
       "  </thead>\n",
       "  <tbody>\n",
       "    <tr>\n",
       "      <th>23</th>\n",
       "      <td>Fewer than every 10 games 1</td>\n",
       "      <td>4</td>\n",
       "      <td>3</td>\n",
       "      <td>3</td>\n",
       "      <td>3</td>\n",
       "      <td>3</td>\n",
       "    </tr>\n",
       "    <tr>\n",
       "      <th>24</th>\n",
       "      <td>Fewer than every 10 games 1</td>\n",
       "      <td>Fewer than every 10 games 1</td>\n",
       "      <td>Fewer than every 10 games 1</td>\n",
       "      <td>Fewer than every 10 games 1</td>\n",
       "      <td>Fewer than every 10 games 1</td>\n",
       "      <td>Fewer than every 10 games 1</td>\n",
       "    </tr>\n",
       "    <tr>\n",
       "      <th>25</th>\n",
       "      <td>2</td>\n",
       "      <td>4</td>\n",
       "      <td>Fewer than every 10 games 1</td>\n",
       "      <td>Fewer than every 10 games 1</td>\n",
       "      <td>4</td>\n",
       "      <td>3</td>\n",
       "    </tr>\n",
       "    <tr>\n",
       "      <th>26</th>\n",
       "      <td>Fewer than every 10 games 1</td>\n",
       "      <td>2</td>\n",
       "      <td>2</td>\n",
       "      <td>2</td>\n",
       "      <td>2</td>\n",
       "      <td>3</td>\n",
       "    </tr>\n",
       "    <tr>\n",
       "      <th>27</th>\n",
       "      <td>2</td>\n",
       "      <td>4</td>\n",
       "      <td>2</td>\n",
       "      <td>Fewer than every 10 games 1</td>\n",
       "      <td>4</td>\n",
       "      <td>Almost every game5</td>\n",
       "    </tr>\n",
       "  </tbody>\n",
       "</table>\n",
       "</div>"
      ],
      "text/plain": [
       "   How often do you see the following appear in multiplayer matches? - Ableism (anti-disability) rhetoric  \\\n",
       "23                        Fewer than every 10 games 1                                                       \n",
       "24                        Fewer than every 10 games 1                                                       \n",
       "25                                                  2                                                       \n",
       "26                        Fewer than every 10 games 1                                                       \n",
       "27                                                  2                                                       \n",
       "\n",
       "   How often do you see the following appear in multiplayer matches? - Anti-LGBTQ+ slurs  \\\n",
       "23                                                  4                                      \n",
       "24                        Fewer than every 10 games 1                                      \n",
       "25                                                  4                                      \n",
       "26                                                  2                                      \n",
       "27                                                  4                                      \n",
       "\n",
       "   How often do you see the following appear in multiplayer matches? - Anti-Jewish slurs  \\\n",
       "23                                                  3                                      \n",
       "24                        Fewer than every 10 games 1                                      \n",
       "25                        Fewer than every 10 games 1                                      \n",
       "26                                                  2                                      \n",
       "27                                                  2                                      \n",
       "\n",
       "   How often do you see the following appear in multiplayer matches? - Anti-Muslim slurs  \\\n",
       "23                                                  3                                      \n",
       "24                        Fewer than every 10 games 1                                      \n",
       "25                        Fewer than every 10 games 1                                      \n",
       "26                                                  2                                      \n",
       "27                        Fewer than every 10 games 1                                      \n",
       "\n",
       "   How often do you see the following appear in multiplayer matches? - Gender-based discrimination or misogyny  \\\n",
       "23                                                  3                                                            \n",
       "24                        Fewer than every 10 games 1                                                            \n",
       "25                                                  4                                                            \n",
       "26                                                  2                                                            \n",
       "27                                                  4                                                            \n",
       "\n",
       "   How often do you see the following appear in multiplayer matches? - Racial Harrassment  \n",
       "23                                                  3                                      \n",
       "24                        Fewer than every 10 games 1                                      \n",
       "25                                                  3                                      \n",
       "26                                                  3                                      \n",
       "27                                 Almost every game5                                      "
      ]
     },
     "execution_count": 36,
     "metadata": {},
     "output_type": "execute_result"
    }
   ],
   "source": [
    "# Select and format data\n",
    "discrimination_cols = [col for col in responses.columns if 'How often do you see the following appear in multiplayer matches?' in col]\n",
    "discrimination_responses = responses[discrimination_cols].copy().dropna()\n",
    "discrimination_responses.info()\n",
    "discrimination_responses.head()"
   ]
  },
  {
   "cell_type": "code",
   "execution_count": 38,
   "id": "918044f5-78f9-402f-b792-d5b4cf58e62c",
   "metadata": {},
   "outputs": [
    {
     "data": {
      "text/html": [
       "<div>\n",
       "<style scoped>\n",
       "    .dataframe tbody tr th:only-of-type {\n",
       "        vertical-align: middle;\n",
       "    }\n",
       "\n",
       "    .dataframe tbody tr th {\n",
       "        vertical-align: top;\n",
       "    }\n",
       "\n",
       "    .dataframe thead th {\n",
       "        text-align: right;\n",
       "    }\n",
       "</style>\n",
       "<table border=\"1\" class=\"dataframe\">\n",
       "  <thead>\n",
       "    <tr style=\"text-align: right;\">\n",
       "      <th></th>\n",
       "      <th>ableism</th>\n",
       "      <th>anti_lgbtq</th>\n",
       "      <th>anti_jewish</th>\n",
       "      <th>anti_muslim</th>\n",
       "      <th>gender_misogyny</th>\n",
       "      <th>racism</th>\n",
       "    </tr>\n",
       "  </thead>\n",
       "  <tbody>\n",
       "    <tr>\n",
       "      <th>23</th>\n",
       "      <td>1 (Fewer than every 10 games)</td>\n",
       "      <td>4</td>\n",
       "      <td>3</td>\n",
       "      <td>3</td>\n",
       "      <td>3</td>\n",
       "      <td>3</td>\n",
       "    </tr>\n",
       "    <tr>\n",
       "      <th>24</th>\n",
       "      <td>1 (Fewer than every 10 games)</td>\n",
       "      <td>1 (Fewer than every 10 games)</td>\n",
       "      <td>1 (Fewer than every 10 games)</td>\n",
       "      <td>1 (Fewer than every 10 games)</td>\n",
       "      <td>1 (Fewer than every 10 games)</td>\n",
       "      <td>1 (Fewer than every 10 games)</td>\n",
       "    </tr>\n",
       "    <tr>\n",
       "      <th>25</th>\n",
       "      <td>2</td>\n",
       "      <td>4</td>\n",
       "      <td>1 (Fewer than every 10 games)</td>\n",
       "      <td>1 (Fewer than every 10 games)</td>\n",
       "      <td>4</td>\n",
       "      <td>3</td>\n",
       "    </tr>\n",
       "    <tr>\n",
       "      <th>26</th>\n",
       "      <td>1 (Fewer than every 10 games)</td>\n",
       "      <td>2</td>\n",
       "      <td>2</td>\n",
       "      <td>2</td>\n",
       "      <td>2</td>\n",
       "      <td>3</td>\n",
       "    </tr>\n",
       "    <tr>\n",
       "      <th>27</th>\n",
       "      <td>2</td>\n",
       "      <td>4</td>\n",
       "      <td>2</td>\n",
       "      <td>1 (Fewer than every 10 games)</td>\n",
       "      <td>4</td>\n",
       "      <td>5 (Almost every game)</td>\n",
       "    </tr>\n",
       "  </tbody>\n",
       "</table>\n",
       "</div>"
      ],
      "text/plain": [
       "                          ableism                     anti_lgbtq  \\\n",
       "23  1 (Fewer than every 10 games)                              4   \n",
       "24  1 (Fewer than every 10 games)  1 (Fewer than every 10 games)   \n",
       "25                              2                              4   \n",
       "26  1 (Fewer than every 10 games)                              2   \n",
       "27                              2                              4   \n",
       "\n",
       "                      anti_jewish                    anti_muslim  \\\n",
       "23                              3                              3   \n",
       "24  1 (Fewer than every 10 games)  1 (Fewer than every 10 games)   \n",
       "25  1 (Fewer than every 10 games)  1 (Fewer than every 10 games)   \n",
       "26                              2                              2   \n",
       "27                              2  1 (Fewer than every 10 games)   \n",
       "\n",
       "                  gender_misogyny                         racism  \n",
       "23                              3                              3  \n",
       "24  1 (Fewer than every 10 games)  1 (Fewer than every 10 games)  \n",
       "25                              4                              3  \n",
       "26                              2                              3  \n",
       "27                              4          5 (Almost every game)  "
      ]
     },
     "execution_count": 38,
     "metadata": {},
     "output_type": "execute_result"
    }
   ],
   "source": [
    "discrimination_responses.columns = ['ableism', 'anti_lgbtq', 'anti_jewish', 'anti_muslim', 'gender_misogyny', 'racism']\n",
    "# discrimination_responses = discrimination_responses.replace('Fewer than every 10 games 1', 1).replace('Almost every game5', 5).astype(str)\n",
    "discrimination_responses = discrimination_responses.replace('Fewer than every 10 games 1', '1 (Fewer than every 10 games)').replace('Almost every game5', '5 (Almost every game)').astype(str)\n",
    "discrimination_responses.head()"
   ]
  },
  {
   "cell_type": "code",
   "execution_count": 40,
   "id": "4f50a73b-3cfc-4945-8f1e-7d6d5e4ad5b0",
   "metadata": {},
   "outputs": [],
   "source": [
    "# Reorder based on future plots, change labels\n",
    "cols_reordered = ['gender_misogyny', 'anti_lgbtq', 'racism', 'ableism', 'anti_jewish', 'anti_muslim']\n",
    "cols_rename = {\n",
    "    'gender_misogyny': 'Gender-based/misogyny',\n",
    "    'anti_lgbtq': 'Anti-LGBTQ+',\n",
    "    'racism': 'Racism',\n",
    "    'ableism': 'Ableism',\n",
    "    'anti_jewish': 'Antisemitic',\n",
    "    'anti_muslim': 'Islamophobic',\n",
    "}\n",
    "discrimination_responses = discrimination_responses[cols_reordered].rename(columns=cols_rename)"
   ]
  },
  {
   "cell_type": "markdown",
   "id": "2c03b1e4-365b-46a4-be29-a041d067c392",
   "metadata": {},
   "source": [
    "#### Create Likert plots (overall)"
   ]
  },
  {
   "cell_type": "code",
   "execution_count": 41,
   "id": "9e5064f8-4179-4bd1-8b3e-6f822f40035e",
   "metadata": {},
   "outputs": [
    {
     "data": {
      "text/plain": [
       "['#ffffff00',\n",
       " 'darkblue',\n",
       " 'cornflowerblue',\n",
       " '#999999',\n",
       " 'lightcoral',\n",
       " 'firebrick']"
      ]
     },
     "execution_count": 41,
     "metadata": {},
     "output_type": "execute_result"
    }
   ],
   "source": [
    "import plot_likert\n",
    "\n",
    "# colorscheme = plot_likert.colors.likert5\n",
    "colorscheme = plot_likert.colors.default\n",
    "\n",
    "reversed_likert5 = [colorscheme[0]] + list(reversed(colorscheme[1:6]))\n",
    "reversed_likert5[3] = '#999999'\n",
    "reversed_likert5"
   ]
  },
  {
   "cell_type": "code",
   "execution_count": 151,
   "id": "5ef24df1-e86d-4a4f-99a7-87c7e806259a",
   "metadata": {},
   "outputs": [
    {
     "name": "stderr",
     "output_type": "stream",
     "text": [
      "/mnt/c/Users/mamille3/research/gaming_voice_chat/conda_env/lib/python3.12/site-packages/plot_likert/plot_likert.py:257: FutureWarning: DataFrame.applymap has been deprecated. Use DataFrame.map instead.\n",
      "  df.applymap(validate)\n",
      "/mnt/c/Users/mamille3/research/gaming_voice_chat/conda_env/lib/python3.12/site-packages/plot_likert/plot_likert.py:310: FutureWarning: Series.__getitem__ treating keys as positions is deprecated. In a future version, integer keys will always be treated as labels (consistent with DataFrame behavior). To access a value by position, use `ser.iloc[pos]`\n",
      "  responses_to_first_question = responses_per_question[0]\n"
     ]
    },
    {
     "data": {
      "text/plain": [
       "<Axes: title={'center': 'Frequency of seeing discrimination in gaming (n=152)'}, xlabel='Percentage of Responses'>"
      ]
     },
     "execution_count": 151,
     "metadata": {},
     "output_type": "execute_result"
    },
    {
     "data": {
      "image/png": "[encoded data removed]",
      "text/plain": [
       "<Figure size 800x600 with 1 Axes>"
      ]
     },
     "metadata": {},
     "output_type": "display_data"
    }
   ],
   "source": [
    "import plot_likert\n",
    "import matplotlib.pyplot as plt\n",
    "\n",
    "font = {'family': ['Lato']}\n",
    "plt.rc('font', **font)\n",
    "scale = sorted(discrimination_responses['Gender-based/misogyny'].unique())\n",
    "# plot = plot_likert.plot_likert(discrimination_responses, scale, colors=reversed_likert5, bar_labels=True, bar_labels_color='white', width=.5, figsize=(8,6))\n",
    "plot = plot_likert.plot_likert(discrimination_responses, scale, colors=reversed_likert5, plot_percentage=True, width=.5, figsize=(8,6))\n",
    "plot.legend(loc='upper right', bbox_to_anchor=(1.42, 1), frameon=False)\n",
    "plot.set_title(\"Frequency of seeing discrimination in gaming (n=152)\", pad=15)\n",
    "plot"
   ]
  },
  {
   "cell_type": "markdown",
   "id": "77ae1932-4ae8-4b11-8ad6-c003e1696981",
   "metadata": {},
   "source": [
    "### Misogyny (responses from marginalized groups)"
   ]
  },
  {
   "cell_type": "code",
   "execution_count": 59,
   "id": "cd48b0e3-0ad9-492a-ad71-322565cf51b1",
   "metadata": {},
   "outputs": [
    {
     "name": "stdout",
     "output_type": "stream",
     "text": [
      "63\n",
      "17\n",
      "68\n"
     ]
    }
   ],
   "source": [
    "# For gender-based discrimination\n",
    "female_responses = responses[responses['What is your gender? - Selected Choice'].isin(['Female'])]\n",
    "nonbinary_responses = responses[responses['What is your gender? - Selected Choice'].isin(['Non-binary / third gender', 'Prefer to self-describe'])]\n",
    "male_responses = responses[responses['What is your gender? - Selected Choice'].isin(['Male'])]\n",
    "print(len(female_responses))\n",
    "print(len(nonbinary_responses))\n",
    "print(len(male_responses))"
   ]
  },
  {
   "cell_type": "code",
   "execution_count": 149,
   "id": "bc18334d-6490-480a-83eb-5c3d475f80c6",
   "metadata": {},
   "outputs": [
    {
     "data": {
      "text/html": [
       "<div>\n",
       "<style scoped>\n",
       "    .dataframe tbody tr th:only-of-type {\n",
       "        vertical-align: middle;\n",
       "    }\n",
       "\n",
       "    .dataframe tbody tr th {\n",
       "        vertical-align: top;\n",
       "    }\n",
       "\n",
       "    .dataframe thead th {\n",
       "        text-align: right;\n",
       "    }\n",
       "</style>\n",
       "<table border=\"1\" class=\"dataframe\">\n",
       "  <thead>\n",
       "    <tr style=\"text-align: right;\">\n",
       "      <th></th>\n",
       "      <th>Non-binary</th>\n",
       "      <th>Female</th>\n",
       "      <th>Male</th>\n",
       "    </tr>\n",
       "  </thead>\n",
       "  <tbody>\n",
       "    <tr>\n",
       "      <th>24</th>\n",
       "      <td>1 (Fewer than every 10 games)</td>\n",
       "      <td>NaN</td>\n",
       "      <td>NaN</td>\n",
       "    </tr>\n",
       "    <tr>\n",
       "      <th>33</th>\n",
       "      <td>3</td>\n",
       "      <td>NaN</td>\n",
       "      <td>NaN</td>\n",
       "    </tr>\n",
       "    <tr>\n",
       "      <th>37</th>\n",
       "      <td>5 (Almost every game)</td>\n",
       "      <td>NaN</td>\n",
       "      <td>NaN</td>\n",
       "    </tr>\n",
       "    <tr>\n",
       "      <th>53</th>\n",
       "      <td>5 (Almost every game)</td>\n",
       "      <td>NaN</td>\n",
       "      <td>NaN</td>\n",
       "    </tr>\n",
       "    <tr>\n",
       "      <th>57</th>\n",
       "      <td>3</td>\n",
       "      <td>NaN</td>\n",
       "      <td>NaN</td>\n",
       "    </tr>\n",
       "    <tr>\n",
       "      <th>...</th>\n",
       "      <td>...</td>\n",
       "      <td>...</td>\n",
       "      <td>...</td>\n",
       "    </tr>\n",
       "    <tr>\n",
       "      <th>165</th>\n",
       "      <td>NaN</td>\n",
       "      <td>NaN</td>\n",
       "      <td>5 (Almost every game)</td>\n",
       "    </tr>\n",
       "    <tr>\n",
       "      <th>168</th>\n",
       "      <td>NaN</td>\n",
       "      <td>NaN</td>\n",
       "      <td>3</td>\n",
       "    </tr>\n",
       "    <tr>\n",
       "      <th>171</th>\n",
       "      <td>NaN</td>\n",
       "      <td>NaN</td>\n",
       "      <td>3</td>\n",
       "    </tr>\n",
       "    <tr>\n",
       "      <th>173</th>\n",
       "      <td>NaN</td>\n",
       "      <td>NaN</td>\n",
       "      <td>3</td>\n",
       "    </tr>\n",
       "    <tr>\n",
       "      <th>174</th>\n",
       "      <td>NaN</td>\n",
       "      <td>NaN</td>\n",
       "      <td>3</td>\n",
       "    </tr>\n",
       "  </tbody>\n",
       "</table>\n",
       "<p>148 rows × 3 columns</p>\n",
       "</div>"
      ],
      "text/plain": [
       "                        Non-binary Female                   Male\n",
       "24   1 (Fewer than every 10 games)    NaN                    NaN\n",
       "33                               3    NaN                    NaN\n",
       "37           5 (Almost every game)    NaN                    NaN\n",
       "53           5 (Almost every game)    NaN                    NaN\n",
       "57                               3    NaN                    NaN\n",
       "..                             ...    ...                    ...\n",
       "165                            NaN    NaN  5 (Almost every game)\n",
       "168                            NaN    NaN                      3\n",
       "171                            NaN    NaN                      3\n",
       "173                            NaN    NaN                      3\n",
       "174                            NaN    NaN                      3\n",
       "\n",
       "[148 rows x 3 columns]"
      ]
     },
     "execution_count": 149,
     "metadata": {},
     "output_type": "execute_result"
    }
   ],
   "source": [
    "misogyny_colname = 'How often do you see the following appear in multiplayer matches? - Gender-based discrimination or misogyny'\n",
    "misogyny_responses = pd.concat([nonbinary_responses[misogyny_colname], female_responses[misogyny_colname], male_responses[misogyny_colname]], axis=1)\n",
    "# misogyny_responses = pd.concat([female_responses[misogyny_colname], male_responses[misogyny_colname], nonbinary_responses[misogyny_colname]], axis=1)\n",
    "# misogyny_responses.columns = ['Female', 'Non-binary', 'Male']\n",
    "# misogyny_responses.columns = ['Female', 'Male', 'Non-binary']\n",
    "misogyny_responses.columns = ['Non-binary', 'Female', 'Male']\n",
    "misogyny_responses = misogyny_responses.replace('Fewer than every 10 games 1', '1 (Fewer than every 10 games)').replace('Almost every game5', '5 (Almost every game)')\n",
    "misogyny_responses"
   ]
  },
  {
   "cell_type": "markdown",
   "id": "24849c72-2fe1-4d8c-bba9-02a914ede04c",
   "metadata": {},
   "source": [
    "#### Create Likert plots"
   ]
  },
  {
   "cell_type": "code",
   "execution_count": 65,
   "id": "db2f81b6-d9c8-4da7-90a6-41ed1f75a7d9",
   "metadata": {},
   "outputs": [
    {
     "data": {
      "text/plain": [
       "['#ffffff00',\n",
       " 'darkblue',\n",
       " 'cornflowerblue',\n",
       " '#999999',\n",
       " 'lightcoral',\n",
       " 'firebrick']"
      ]
     },
     "execution_count": 65,
     "metadata": {},
     "output_type": "execute_result"
    }
   ],
   "source": [
    "import plot_likert\n",
    "\n",
    "# colorscheme = plot_likert.colors.likert5\n",
    "colorscheme = plot_likert.colors.default\n",
    "\n",
    "reversed_likert5 = [colorscheme[0]] + list(reversed(colorscheme[1:6]))\n",
    "reversed_likert5[3] = '#999999'\n",
    "reversed_likert5"
   ]
  },
  {
   "cell_type": "code",
   "execution_count": 150,
   "id": "a7891124-639b-4ca6-98f4-ed8dceeef85f",
   "metadata": {},
   "outputs": [
    {
     "name": "stderr",
     "output_type": "stream",
     "text": [
      "/mnt/c/Users/mamille3/research/gaming_voice_chat/conda_env/lib/python3.12/site-packages/plot_likert/plot_likert.py:257: FutureWarning: DataFrame.applymap has been deprecated. Use DataFrame.map instead.\n",
      "  df.applymap(validate)\n",
      "/mnt/c/Users/mamille3/research/gaming_voice_chat/conda_env/lib/python3.12/site-packages/plot_likert/plot_likert.py:310: FutureWarning: Series.__getitem__ treating keys as positions is deprecated. In a future version, integer keys will always be treated as labels (consistent with DataFrame behavior). To access a value by position, use `ser.iloc[pos]`\n",
      "  responses_to_first_question = responses_per_question[0]\n",
      "/mnt/c/Users/mamille3/research/gaming_voice_chat/conda_env/lib/python3.12/site-packages/plot_likert/plot_likert.py:313: UserWarning: In your data, not all questions have the same number of responses. i.e., different numbers of people answered each question. Therefore, the percentages aren't directly comparable: X% for one question represents a different number of responses than X% for another question, yet they will appear the same in the percentage graph. This may be misleading to your reader.\n",
      "  warn(\n"
     ]
    },
    {
     "data": {
      "text/plain": [
       "<Axes: title={'center': 'Frequency of seeing gender-based discrimination or misogyny in gaming'}, xlabel='Percentage of Responses'>"
      ]
     },
     "execution_count": 150,
     "metadata": {},
     "output_type": "execute_result"
    },
    {
     "data": {
      "image/png": "[encoded data removed]",
      "text/plain": [
       "<Figure size 500x300 with 1 Axes>"
      ]
     },
     "metadata": {},
     "output_type": "display_data"
    }
   ],
   "source": [
    "import plot_likert\n",
    "import matplotlib.pyplot as plt\n",
    "\n",
    "font = {'family': ['Lato']}\n",
    "plt.rc('font', **font)\n",
    "scale = sorted(misogyny_responses['Female'].dropna().unique())\n",
    "# plot = plot_likert.plot_likert(misogyny_responses, scale, colors=reversed_likert5, plot_percentage=True, bar_labels=True, bar_labels_color='white', width=0.5, figsize=(5,3))\n",
    "plot = plot_likert.plot_likert(misogyny_responses, scale, colors=reversed_likert5, plot_percentage=True, width=0.5, figsize=(5,3))\n",
    "plot.legend(loc='upper right', bbox_to_anchor=(1.65, 1), frameon=False)\n",
    "plot.set_title(\"Frequency of seeing gender-based discrimination or misogyny in gaming\", pad=15)\n",
    "# plot.set_yticklabels(reversed(['Female\\n(n=63)', 'Male\\n(n=68)', 'Non-binary\\n(n=17)']))\n",
    "plot.set_yticklabels(['Male\\n(n=68)', 'Female\\n(n=63)', 'Non-binary\\n(n=17)'])\n",
    "plot"
   ]
  },
  {
   "cell_type": "markdown",
   "id": "224dd1bf-6c26-4a67-98a7-bc37478b1f44",
   "metadata": {},
   "source": [
    "### Racism (responses from marginalized groups)"
   ]
  },
  {
   "cell_type": "code",
   "execution_count": 110,
   "id": "b2155504-2608-431b-8def-8be31697d6a3",
   "metadata": {},
   "outputs": [
    {
     "data": {
      "text/plain": [
       "How do you describe your race or ethnic identity? (select all that apply) - Selected Choice\n",
       "White or Caucasian                                                               110\n",
       "Asian                                                                             10\n",
       "Black or African American                                                          8\n",
       "Prefer not to say                                                                  7\n",
       "Hispanic and/or Latino/Latina/Latinx                                               6\n",
       "Asian,White or Caucasian                                                           4\n",
       "White or Caucasian,Hispanic and/or Latino/Latina/Latinx                            2\n",
       "Black or African American,White or Caucasian                                       1\n",
       "Prefer to self-describe                                                            1\n",
       "American Indian or Alaska Native                                                   1\n",
       "Black or African American,Prefer to self-describe                                  1\n",
       "American Indian or Alaska Native,Black or African American,White or Caucasian      1\n",
       "Name: count, dtype: int64"
      ]
     },
     "execution_count": 110,
     "metadata": {},
     "output_type": "execute_result"
    }
   ],
   "source": [
    "race_values = responses['How do you describe your race or ethnic identity? (select all that apply) - Selected Choice'].value_counts()\n",
    "race_values"
   ]
  },
  {
   "cell_type": "code",
   "execution_count": 109,
   "id": "d347503b-bdd0-4bec-931e-95c7bd73c3b7",
   "metadata": {},
   "outputs": [
    {
     "data": {
      "text/plain": [
       "How do you describe your race or ethnic identity? (select all that apply) - Prefer to self-describe - Text\n",
       "American                   1\n",
       "Black and part Italian     1\n",
       "Name: count, dtype: int64"
      ]
     },
     "execution_count": 109,
     "metadata": {},
     "output_type": "execute_result"
    }
   ],
   "source": [
    "responses['How do you describe your race or ethnic identity? (select all that apply) - Prefer to self-describe - Text'].value_counts()"
   ]
  },
  {
   "cell_type": "code",
   "execution_count": 121,
   "id": "f0df3830-b1a9-409b-8648-7a31fc6aa52f",
   "metadata": {},
   "outputs": [
    {
     "name": "stdout",
     "output_type": "stream",
     "text": [
      "118\n",
      "11\n",
      "14\n"
     ]
    },
    {
     "name": "stderr",
     "output_type": "stream",
     "text": [
      "/tmp/ipykernel_138/4275815192.py:3: FutureWarning: Downcasting object dtype arrays on .fillna, .ffill, .bfill is deprecated and will change in a future version. Call result.infer_objects(copy=False) instead. To opt-in to the future behavior, set `pd.set_option('future.no_silent_downcasting', True)`\n",
      "  white_responses = responses[responses['How do you describe your race or ethnic identity? (select all that apply) - Selected Choice'].str.contains('White').fillna(False)]\n",
      "/tmp/ipykernel_138/4275815192.py:5: FutureWarning: Downcasting object dtype arrays on .fillna, .ffill, .bfill is deprecated and will change in a future version. Call result.infer_objects(copy=False) instead. To opt-in to the future behavior, set `pd.set_option('future.no_silent_downcasting', True)`\n",
      "  black_responses = responses[responses['How do you describe your race or ethnic identity? (select all that apply) - Selected Choice'].str.contains('Black').fillna(False)]\n",
      "/tmp/ipykernel_138/4275815192.py:7: FutureWarning: Downcasting object dtype arrays on .fillna, .ffill, .bfill is deprecated and will change in a future version. Call result.infer_objects(copy=False) instead. To opt-in to the future behavior, set `pd.set_option('future.no_silent_downcasting', True)`\n",
      "  asian_responses = responses[responses['How do you describe your race or ethnic identity? (select all that apply) - Selected Choice'].str.contains('Asian').fillna(False)]\n"
     ]
    }
   ],
   "source": [
    "# For gender-based discrimination\n",
    "# white_responses = responses[responses['How do you describe your race or ethnic identity? (select all that apply) - Selected Choice'].isin(['White or Caucasian'])]\n",
    "white_responses = responses[responses['How do you describe your race or ethnic identity? (select all that apply) - Selected Choice'].str.contains('White').fillna(False)]\n",
    "print(len(white_responses))\n",
    "black_responses = responses[responses['How do you describe your race or ethnic identity? (select all that apply) - Selected Choice'].str.contains('Black').fillna(False)]\n",
    "print(len(black_responses))\n",
    "asian_responses = responses[responses['How do you describe your race or ethnic identity? (select all that apply) - Selected Choice'].str.contains('Asian').fillna(False)]\n",
    "print(len(asian_responses))"
   ]
  },
  {
   "cell_type": "code",
   "execution_count": 125,
   "id": "9e659a11-e877-4110-9aa1-d0bc31b70154",
   "metadata": {},
   "outputs": [
    {
     "data": {
      "text/html": [
       "<div>\n",
       "<style scoped>\n",
       "    .dataframe tbody tr th:only-of-type {\n",
       "        vertical-align: middle;\n",
       "    }\n",
       "\n",
       "    .dataframe tbody tr th {\n",
       "        vertical-align: top;\n",
       "    }\n",
       "\n",
       "    .dataframe thead th {\n",
       "        text-align: right;\n",
       "    }\n",
       "</style>\n",
       "<table border=\"1\" class=\"dataframe\">\n",
       "  <thead>\n",
       "    <tr style=\"text-align: right;\">\n",
       "      <th></th>\n",
       "      <th>Black</th>\n",
       "      <th>Asian</th>\n",
       "      <th>White</th>\n",
       "    </tr>\n",
       "  </thead>\n",
       "  <tbody>\n",
       "    <tr>\n",
       "      <th>27</th>\n",
       "      <td>5 (Almost every game)</td>\n",
       "      <td>NaN</td>\n",
       "      <td>NaN</td>\n",
       "    </tr>\n",
       "    <tr>\n",
       "      <th>35</th>\n",
       "      <td>5 (Almost every game)</td>\n",
       "      <td>NaN</td>\n",
       "      <td>5 (Almost every game)</td>\n",
       "    </tr>\n",
       "    <tr>\n",
       "      <th>91</th>\n",
       "      <td>5 (Almost every game)</td>\n",
       "      <td>NaN</td>\n",
       "      <td>NaN</td>\n",
       "    </tr>\n",
       "    <tr>\n",
       "      <th>100</th>\n",
       "      <td>1 (Fewer than every 10 games)</td>\n",
       "      <td>NaN</td>\n",
       "      <td>NaN</td>\n",
       "    </tr>\n",
       "    <tr>\n",
       "      <th>110</th>\n",
       "      <td>1 (Fewer than every 10 games)</td>\n",
       "      <td>NaN</td>\n",
       "      <td>NaN</td>\n",
       "    </tr>\n",
       "    <tr>\n",
       "      <th>...</th>\n",
       "      <td>...</td>\n",
       "      <td>...</td>\n",
       "      <td>...</td>\n",
       "    </tr>\n",
       "    <tr>\n",
       "      <th>167</th>\n",
       "      <td>NaN</td>\n",
       "      <td>NaN</td>\n",
       "      <td>2</td>\n",
       "    </tr>\n",
       "    <tr>\n",
       "      <th>168</th>\n",
       "      <td>NaN</td>\n",
       "      <td>NaN</td>\n",
       "      <td>3</td>\n",
       "    </tr>\n",
       "    <tr>\n",
       "      <th>169</th>\n",
       "      <td>NaN</td>\n",
       "      <td>NaN</td>\n",
       "      <td>1 (Fewer than every 10 games)</td>\n",
       "    </tr>\n",
       "    <tr>\n",
       "      <th>172</th>\n",
       "      <td>NaN</td>\n",
       "      <td>NaN</td>\n",
       "      <td>3</td>\n",
       "    </tr>\n",
       "    <tr>\n",
       "      <th>173</th>\n",
       "      <td>NaN</td>\n",
       "      <td>NaN</td>\n",
       "      <td>3</td>\n",
       "    </tr>\n",
       "  </tbody>\n",
       "</table>\n",
       "<p>137 rows × 3 columns</p>\n",
       "</div>"
      ],
      "text/plain": [
       "                             Black Asian                          White\n",
       "27           5 (Almost every game)   NaN                            NaN\n",
       "35           5 (Almost every game)   NaN          5 (Almost every game)\n",
       "91           5 (Almost every game)   NaN                            NaN\n",
       "100  1 (Fewer than every 10 games)   NaN                            NaN\n",
       "110  1 (Fewer than every 10 games)   NaN                            NaN\n",
       "..                             ...   ...                            ...\n",
       "167                            NaN   NaN                              2\n",
       "168                            NaN   NaN                              3\n",
       "169                            NaN   NaN  1 (Fewer than every 10 games)\n",
       "172                            NaN   NaN                              3\n",
       "173                            NaN   NaN                              3\n",
       "\n",
       "[137 rows x 3 columns]"
      ]
     },
     "execution_count": 125,
     "metadata": {},
     "output_type": "execute_result"
    }
   ],
   "source": [
    "racism_colname = 'How often do you see the following appear in multiplayer matches? - Racial Harrassment'\n",
    "racism_responses = pd.concat([black_responses[racism_colname], asian_responses[racism_colname], white_responses[racism_colname]], axis=1)\n",
    "racism_responses.columns = ['Black', 'Asian', 'White']\n",
    "racism_responses = racism_responses.replace('Fewer than every 10 games 1', '1 (Fewer than every 10 games)').replace('Almost every game5', '5 (Almost every game)')\n",
    "racism_responses"
   ]
  },
  {
   "cell_type": "markdown",
   "id": "49eff331-f1ff-43f1-ab1f-8e3e31fefa33",
   "metadata": {},
   "source": [
    "#### Create Likert plots"
   ]
  },
  {
   "cell_type": "code",
   "execution_count": 126,
   "id": "543bace7-dc47-4982-90be-01c5a7ce0638",
   "metadata": {},
   "outputs": [
    {
     "data": {
      "text/plain": [
       "['#ffffff00',\n",
       " 'darkblue',\n",
       " 'cornflowerblue',\n",
       " '#999999',\n",
       " 'lightcoral',\n",
       " 'firebrick']"
      ]
     },
     "execution_count": 126,
     "metadata": {},
     "output_type": "execute_result"
    }
   ],
   "source": [
    "import plot_likert\n",
    "\n",
    "# colorscheme = plot_likert.colors.likert5\n",
    "colorscheme = plot_likert.colors.default\n",
    "\n",
    "reversed_likert5 = [colorscheme[0]] + list(reversed(colorscheme[1:6]))\n",
    "reversed_likert5[3] = '#999999'\n",
    "reversed_likert5"
   ]
  },
  {
   "cell_type": "code",
   "execution_count": 143,
   "id": "475d5c97-197e-4ad4-a22d-7859a57889f0",
   "metadata": {},
   "outputs": [
    {
     "name": "stderr",
     "output_type": "stream",
     "text": [
      "/mnt/c/Users/mamille3/research/gaming_voice_chat/conda_env/lib/python3.12/site-packages/plot_likert/plot_likert.py:257: FutureWarning: DataFrame.applymap has been deprecated. Use DataFrame.map instead.\n",
      "  df.applymap(validate)\n",
      "/mnt/c/Users/mamille3/research/gaming_voice_chat/conda_env/lib/python3.12/site-packages/plot_likert/plot_likert.py:310: FutureWarning: Series.__getitem__ treating keys as positions is deprecated. In a future version, integer keys will always be treated as labels (consistent with DataFrame behavior). To access a value by position, use `ser.iloc[pos]`\n",
      "  responses_to_first_question = responses_per_question[0]\n",
      "/mnt/c/Users/mamille3/research/gaming_voice_chat/conda_env/lib/python3.12/site-packages/plot_likert/plot_likert.py:313: UserWarning: In your data, not all questions have the same number of responses. i.e., different numbers of people answered each question. Therefore, the percentages aren't directly comparable: X% for one question represents a different number of responses than X% for another question, yet they will appear the same in the percentage graph. This may be misleading to your reader.\n",
      "  warn(\n"
     ]
    },
    {
     "data": {
      "text/plain": [
       "<Axes: title={'center': 'Frequency of seeing racial harassment in gaming'}, xlabel='Percentage of Responses'>"
      ]
     },
     "execution_count": 143,
     "metadata": {},
     "output_type": "execute_result"
    },
    {
     "data": {
      "image/png": "[encoded data removed]",
      "text/plain": [
       "<Figure size 500x300 with 1 Axes>"
      ]
     },
     "metadata": {},
     "output_type": "display_data"
    }
   ],
   "source": [
    "import plot_likert\n",
    "import matplotlib.pyplot as plt\n",
    "\n",
    "font = {'family': ['Lato']}\n",
    "plt.rc('font', **font)\n",
    "scale = sorted(racism_responses['White'].dropna().unique())\n",
    "plot = plot_likert.plot_likert(racism_responses, scale, colors=reversed_likert5, plot_percentage=True, width=0.5, figsize=(5,3))\n",
    "plot.legend(loc='upper right', bbox_to_anchor=(1.65, 1), frameon=False)\n",
    "plot.set_title(\"Frequency of seeing racial harassment in gaming\", pad=15)\n",
    "plot.set_yticklabels(reversed(['Black\\n(n=11)', 'Asian\\n(n=14)', 'White\\n(n=118)']))\n",
    "plot"
   ]
  },
  {
   "cell_type": "markdown",
   "id": "6053352b-cd57-4d07-af98-802dd329fa9e",
   "metadata": {},
   "source": [
    "## Select data, plots for privacy"
   ]
  },
  {
   "cell_type": "code",
   "execution_count": 7,
   "id": "025a433b-6b69-496d-ae20-1d2f3b45ce7e",
   "metadata": {},
   "outputs": [
    {
     "name": "stdout",
     "output_type": "stream",
     "text": [
      "<class 'pandas.core.frame.DataFrame'>\n",
      "Index: 152 entries, 23 to 174\n",
      "Data columns (total 3 columns):\n",
      " #   Column                                                                                                                            Non-Null Count  Dtype  \n",
      "---  ------                                                                                                                            --------------  -----  \n",
      " 0   How comfortable do you feel about voice chats being recorded and saved for the following: - Data Analytics                        152 non-null    float64\n",
      " 1   How comfortable do you feel about voice chats being recorded and saved for the following: - Reporting cheating                    152 non-null    object \n",
      " 2   How comfortable do you feel about voice chats being recorded and saved for the following: - Reporting toxicity or discrimination  152 non-null    object \n",
      "dtypes: float64(1), object(2)\n",
      "memory usage: 4.8+ KB\n"
     ]
    },
    {
     "data": {
      "text/html": [
       "<div>\n",
       "<style scoped>\n",
       "    .dataframe tbody tr th:only-of-type {\n",
       "        vertical-align: middle;\n",
       "    }\n",
       "\n",
       "    .dataframe tbody tr th {\n",
       "        vertical-align: top;\n",
       "    }\n",
       "\n",
       "    .dataframe thead th {\n",
       "        text-align: right;\n",
       "    }\n",
       "</style>\n",
       "<table border=\"1\" class=\"dataframe\">\n",
       "  <thead>\n",
       "    <tr style=\"text-align: right;\">\n",
       "      <th></th>\n",
       "      <th>How comfortable do you feel about voice chats being recorded and saved for the following: - Data Analytics</th>\n",
       "      <th>How comfortable do you feel about voice chats being recorded and saved for the following: - Reporting cheating</th>\n",
       "      <th>How comfortable do you feel about voice chats being recorded and saved for the following: - Reporting toxicity or discrimination</th>\n",
       "    </tr>\n",
       "  </thead>\n",
       "  <tbody>\n",
       "    <tr>\n",
       "      <th>23</th>\n",
       "      <td>2.0</td>\n",
       "      <td>Extremely Comfortable5</td>\n",
       "      <td>3</td>\n",
       "    </tr>\n",
       "    <tr>\n",
       "      <th>24</th>\n",
       "      <td>1.0</td>\n",
       "      <td>Extremely Comfortable5</td>\n",
       "      <td>Extremely Comfortable5</td>\n",
       "    </tr>\n",
       "    <tr>\n",
       "      <th>25</th>\n",
       "      <td>5.0</td>\n",
       "      <td>Extremely Comfortable5</td>\n",
       "      <td>Extremely Comfortable5</td>\n",
       "    </tr>\n",
       "    <tr>\n",
       "      <th>26</th>\n",
       "      <td>4.0</td>\n",
       "      <td>Extremely Comfortable5</td>\n",
       "      <td>Extremely Comfortable5</td>\n",
       "    </tr>\n",
       "    <tr>\n",
       "      <th>27</th>\n",
       "      <td>1.0</td>\n",
       "      <td>4</td>\n",
       "      <td>3</td>\n",
       "    </tr>\n",
       "  </tbody>\n",
       "</table>\n",
       "</div>"
      ],
      "text/plain": [
       "    How comfortable do you feel about voice chats being recorded and saved for the following: - Data Analytics  \\\n",
       "23                                                2.0                                                            \n",
       "24                                                1.0                                                            \n",
       "25                                                5.0                                                            \n",
       "26                                                4.0                                                            \n",
       "27                                                1.0                                                            \n",
       "\n",
       "   How comfortable do you feel about voice chats being recorded and saved for the following: - Reporting cheating  \\\n",
       "23                             Extremely Comfortable5                                                               \n",
       "24                             Extremely Comfortable5                                                               \n",
       "25                             Extremely Comfortable5                                                               \n",
       "26                             Extremely Comfortable5                                                               \n",
       "27                                                  4                                                               \n",
       "\n",
       "   How comfortable do you feel about voice chats being recorded and saved for the following: - Reporting toxicity or discrimination  \n",
       "23                                                  3                                                                                \n",
       "24                             Extremely Comfortable5                                                                                \n",
       "25                             Extremely Comfortable5                                                                                \n",
       "26                             Extremely Comfortable5                                                                                \n",
       "27                                                  3                                                                                "
      ]
     },
     "execution_count": 7,
     "metadata": {},
     "output_type": "execute_result"
    }
   ],
   "source": [
    "# Select and format data\n",
    "privacy_cols = [col for col in responses.columns if 'How comfortable do you feel about voice chats being recorded and saved for the following:' in col]\n",
    "privacy_responses = responses[privacy_cols].copy().dropna()\n",
    "privacy_responses.info()\n",
    "privacy_responses.head()"
   ]
  },
  {
   "cell_type": "code",
   "execution_count": 8,
   "id": "fc60bcbf-e6d2-47c1-a58a-fb7cfc00f8cf",
   "metadata": {},
   "outputs": [
    {
     "name": "stdout",
     "output_type": "stream",
     "text": [
      "Data analytics\n",
      "[2. 1. 5. 4. 3.]\n",
      "\n",
      "Reporting cheating\n",
      "['Extremely Comfortable5' '4' 'Extremely Uncomfortable1' '2' '3']\n",
      "\n",
      "Reporting toxicity or discrimination\n",
      "['3' 'Extremely Comfortable5' '4' '2' 'Extremely Uncomfortable1']\n",
      "\n"
     ]
    }
   ],
   "source": [
    "privacy_responses.columns = ['Data analytics', 'Reporting cheating', 'Reporting toxicity or discrimination']\n",
    "for col in privacy_responses.columns:\n",
    "    print(col)\n",
    "    print(privacy_responses[col].unique())\n",
    "    print()"
   ]
  },
  {
   "cell_type": "code",
   "execution_count": 10,
   "id": "c70c1455-fcbc-465d-b5ff-3815cc0df6a7",
   "metadata": {},
   "outputs": [
    {
     "data": {
      "text/html": [
       "<div>\n",
       "<style scoped>\n",
       "    .dataframe tbody tr th:only-of-type {\n",
       "        vertical-align: middle;\n",
       "    }\n",
       "\n",
       "    .dataframe tbody tr th {\n",
       "        vertical-align: top;\n",
       "    }\n",
       "\n",
       "    .dataframe thead th {\n",
       "        text-align: right;\n",
       "    }\n",
       "</style>\n",
       "<table border=\"1\" class=\"dataframe\">\n",
       "  <thead>\n",
       "    <tr style=\"text-align: right;\">\n",
       "      <th></th>\n",
       "      <th>Data analytics</th>\n",
       "      <th>Reporting cheating</th>\n",
       "      <th>Reporting toxicity or discrimination</th>\n",
       "    </tr>\n",
       "  </thead>\n",
       "  <tbody>\n",
       "    <tr>\n",
       "      <th>23</th>\n",
       "      <td>2</td>\n",
       "      <td>5 (Extremely comfortable)</td>\n",
       "      <td>3</td>\n",
       "    </tr>\n",
       "    <tr>\n",
       "      <th>24</th>\n",
       "      <td>1 (Extremely uncomfortable)</td>\n",
       "      <td>5 (Extremely comfortable)</td>\n",
       "      <td>5 (Extremely comfortable)</td>\n",
       "    </tr>\n",
       "    <tr>\n",
       "      <th>25</th>\n",
       "      <td>5 (Extremely comfortable)</td>\n",
       "      <td>5 (Extremely comfortable)</td>\n",
       "      <td>5 (Extremely comfortable)</td>\n",
       "    </tr>\n",
       "    <tr>\n",
       "      <th>26</th>\n",
       "      <td>4</td>\n",
       "      <td>5 (Extremely comfortable)</td>\n",
       "      <td>5 (Extremely comfortable)</td>\n",
       "    </tr>\n",
       "    <tr>\n",
       "      <th>27</th>\n",
       "      <td>1 (Extremely uncomfortable)</td>\n",
       "      <td>4</td>\n",
       "      <td>3</td>\n",
       "    </tr>\n",
       "  </tbody>\n",
       "</table>\n",
       "</div>"
      ],
      "text/plain": [
       "                 Data analytics         Reporting cheating  \\\n",
       "23                            2  5 (Extremely comfortable)   \n",
       "24  1 (Extremely uncomfortable)  5 (Extremely comfortable)   \n",
       "25    5 (Extremely comfortable)  5 (Extremely comfortable)   \n",
       "26                            4  5 (Extremely comfortable)   \n",
       "27  1 (Extremely uncomfortable)                          4   \n",
       "\n",
       "   Reporting toxicity or discrimination  \n",
       "23                                    3  \n",
       "24            5 (Extremely comfortable)  \n",
       "25            5 (Extremely comfortable)  \n",
       "26            5 (Extremely comfortable)  \n",
       "27                                    3  "
      ]
     },
     "execution_count": 10,
     "metadata": {},
     "output_type": "execute_result"
    }
   ],
   "source": [
    "values_transform = {\n",
    "    'Extremely Uncomfortable1': '1 (Extremely uncomfortable)',\n",
    "    'Extremely Comfortable5': '5 (Extremely comfortable)',\n",
    "    '1': '1 (Extremely uncomfortable)',\n",
    "    '5': '5 (Extremely comfortable)',\n",
    "}\n",
    "privacy_responses['Data analytics'] = privacy_responses['Data analytics'].astype(int).astype(str)\n",
    "privacy_responses = privacy_responses.replace(values_transform)\n",
    "privacy_responses.head()"
   ]
  },
  {
   "cell_type": "code",
   "execution_count": 11,
   "id": "ee750d06-16e8-4824-88f4-f7d074ff8d2d",
   "metadata": {},
   "outputs": [],
   "source": [
    "# Reorder based on future plots, change labels\n",
    "cols_reordered = ['Reporting toxicity or discrimination', 'Reporting cheating', 'Data analytics']\n",
    "privacy_responses = privacy_responses[cols_reordered]"
   ]
  },
  {
   "cell_type": "markdown",
   "id": "05ae5686-6f36-4d54-9248-b5008ca2b19e",
   "metadata": {},
   "source": [
    "### Create Likert plots"
   ]
  },
  {
   "cell_type": "code",
   "execution_count": 26,
   "id": "c3b9ad08-4139-4b1d-a63c-43d238b9e263",
   "metadata": {},
   "outputs": [
    {
     "data": {
      "text/plain": [
       "['#ffffff00',\n",
       " 'firebrick',\n",
       " 'lightcoral',\n",
       " '#999999',\n",
       " 'cornflowerblue',\n",
       " 'darkblue']"
      ]
     },
     "execution_count": 26,
     "metadata": {},
     "output_type": "execute_result"
    }
   ],
   "source": [
    "import plot_likert\n",
    "\n",
    "# colorscheme = plot_likert.colors.likert5\n",
    "colorscheme = plot_likert.colors.default\n",
    "likert5 = colorscheme\n",
    "likert5[3] = '#999999'\n",
    "likert5"
   ]
  },
  {
   "cell_type": "code",
   "execution_count": 13,
   "id": "e5da660a-621b-403e-9732-ca2751e7f598",
   "metadata": {},
   "outputs": [
    {
     "name": "stdout",
     "output_type": "stream",
     "text": [
      "{'DejaVu Serif', 'Lato', 'DejaVu Sans Mono', 'DejaVu Sans'}\n"
     ]
    }
   ],
   "source": [
    "# Find out which fonts are available\n",
    "\n",
    "import matplotlib.font_manager\n",
    "flist = matplotlib.font_manager.findSystemFonts()\n",
    "names = set([matplotlib.font_manager.FontProperties(fname=fname).get_name() for fname in flist])\n",
    "print(names)"
   ]
  },
  {
   "cell_type": "code",
   "execution_count": 27,
   "id": "c1b3432c-92d4-483f-b24a-47316611516e",
   "metadata": {},
   "outputs": [
    {
     "name": "stderr",
     "output_type": "stream",
     "text": [
      "/mnt/c/Users/mamille3/research/gaming_voice_chat/conda_env/lib/python3.12/site-packages/plot_likert/plot_likert.py:257: FutureWarning: DataFrame.applymap has been deprecated. Use DataFrame.map instead.\n",
      "  df.applymap(validate)\n"
     ]
    },
    {
     "data": {
      "text/plain": [
       "<Axes: title={'center': 'Comfort with voice chat being recorded for different purposes'}, xlabel='Number of Responses'>"
      ]
     },
     "execution_count": 27,
     "metadata": {},
     "output_type": "execute_result"
    },
    {
     "data": {
      "image/png": "[encoded data removed]",
      "text/plain": [
       "<Figure size 640x480 with 1 Axes>"
      ]
     },
     "metadata": {},
     "output_type": "display_data"
    }
   ],
   "source": [
    "import plot_likert\n",
    "import matplotlib.pyplot as plt\n",
    "\n",
    "font = {'family': ['Lato']}\n",
    "plt.rc('font', **font)\n",
    "scale = sorted(privacy_responses['Reporting toxicity or discrimination'].unique())\n",
    "plot = plot_likert.plot_likert(privacy_responses, scale, colors=likert5, bar_labels=True, bar_labels_color='white')\n",
    "plot.legend(loc='upper right', bbox_to_anchor=(1.51, 1), frameon=False)\n",
    "plot.set_title(\"Comfort with voice chat being recorded for different purposes\", pad=15)\n",
    "plot"
   ]
  }
 ],
 "metadata": {
  "kernelspec": {
   "display_name": "Python 3 (ipykernel)",
   "language": "python",
   "name": "python3"
  },
  "language_info": {
   "codemirror_mode": {
    "name": "ipython",
    "version": 3
   },
   "file_extension": ".py",
   "mimetype": "text/x-python",
   "name": "python",
   "nbconvert_exporter": "python",
   "pygments_lexer": "ipython3",
   "version": "3.12.2"
  }
 },
 "nbformat": 4,
 "nbformat_minor": 5
}
