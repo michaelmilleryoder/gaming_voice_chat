{
 "cells": [
  {
   "cell_type": "markdown",
   "id": "0f0103ef-5112-4d67-8fa6-fd745a4a78ae",
   "metadata": {},
   "source": [
    "# Visualize Likert scale responses"
   ]
  },
  {
   "cell_type": "markdown",
   "id": "c352d470-b6f7-4ed4-9766-157faef25881",
   "metadata": {},
   "source": [
    "## Load data"
   ]
  },
  {
   "cell_type": "code",
   "execution_count": 3,
   "id": "76b83800-4be7-40c7-a3d3-8e535229ce29",
   "metadata": {
    "scrolled": true
   },
   "outputs": [
    {
     "name": "stdout",
     "output_type": "stream",
     "text": [
      "<class 'pandas.core.frame.DataFrame'>\n",
      "RangeIndex: 175 entries, 0 to 174\n",
      "Data columns (total 46 columns):\n",
      " #   Column                                                                                                                                                                                                                        Non-Null Count  Dtype  \n",
      "---  ------                                                                                                                                                                                                                        --------------  -----  \n",
      " 0   Response ID                                                                                                                                                                                                                   175 non-null    object \n",
      " 1   concrete experience                                                                                                                                                                                                           137 non-null    object \n",
      " 2   User Language                                                                                                                                                                                                                 175 non-null    object \n",
      " 3   I have reviewed the eligibility requirements listed in the Participant Requirements section of this consent form and certify that I am eligible to participate in this research, to the best of my knowledge.                 175 non-null    object \n",
      " 4   I am age 18 or older.                                                                                                                                                                                                         175 non-null    object \n",
      " 5   I have read and understand the information above.                                                                                                                                                                             175 non-null    object \n",
      " 6   I want to participate in this research and continue with the survey.                                                                                                                                                          175 non-null    object \n",
      " 7   How long have you been an active competitive video game player?                                                                                                                                                               175 non-null    object \n",
      " 8   What is your main motivation for playing competitive video games? - Selected Choice                                                                                                                                           175 non-null    object \n",
      " 9   What is your main motivation for playing competitive video games? - Other (please specify) - Text                                                                                                                             5 non-null      object \n",
      " 10  Which of the following competitive games do you most frequently play?  Please check all that apply. - Selected Choice                                                                                                         175 non-null    object \n",
      " 11  Which of the following competitive games do you most frequently play?  Please check all that apply. - Other (please specify) - Text                                                                                           49 non-null     object \n",
      " 12  Which developer do you think does the most to promote a positive competitive playing environment? - Selected Choice                                                                                                           175 non-null    object \n",
      " 13  Which developer do you think does the most to promote a positive competitive playing environment? - Other - Text                                                                                                              10 non-null     object \n",
      " 14  What is the best way a developer has promoted a positive competitive playing environment?                                                                                                                                     174 non-null    object \n",
      " 15  How many hours per week do you typically spend playing competitive video games?                                                                                                                                               175 non-null    object \n",
      " 16  Do you have an Alexa or Google Home in your house?                                                                                                                                                                            152 non-null    object \n",
      " 17  How comfortable do you feel about voice chats being recorded and saved for the following: - Data Analytics                                                                                                                    152 non-null    float64\n",
      " 18  How comfortable do you feel about voice chats being recorded and saved for the following: - Reporting cheating                                                                                                                152 non-null    object \n",
      " 19  How comfortable do you feel about voice chats being recorded and saved for the following: - Reporting toxicity or discrimination                                                                                              152 non-null    object \n",
      " 20  How often do you experience the following in multiplayer games? - Smurfing                                                                                                                                                    152 non-null    object \n",
      " 21  How often do you experience the following in multiplayer games? - Bots                                                                                                                                                        152 non-null    object \n",
      " 22  How often do you experience the following in multiplayer games? - Wall or aim hacks                                                                                                                                           152 non-null    object \n",
      " 23  What type of cheating appears the most in your online competitive games?                                                                                                                                                      151 non-null    object \n",
      " 24  How often do you see the following appear in multiplayer matches? - Ableism (anti-disability) rhetoric                                                                                                                        152 non-null    object \n",
      " 25  How often do you see the following appear in multiplayer matches? - Anti-LGBTQ+ slurs                                                                                                                                         152 non-null    object \n",
      " 26  How often do you see the following appear in multiplayer matches? - Anti-Jewish slurs                                                                                                                                         152 non-null    object \n",
      " 27  How often do you see the following appear in multiplayer matches? - Anti-Muslim slurs                                                                                                                                         152 non-null    object \n",
      " 28  How often do you see the following appear in multiplayer matches? - Gender-based discrimination or misogyny                                                                                                                   152 non-null    object \n",
      " 29  How often do you see the following appear in multiplayer matches? - Racial Harrassment                                                                                                                                        152 non-null    object \n",
      " 30  What are some examples of ways you see discrimination or hate appearing in online gaming communities?                                                                                                                         151 non-null    object \n",
      " 31  harmful action                                                                                                                                                                                                                86 non-null     object \n",
      " 32  identity[s] targeted                                                                                                                                                                                                          71 non-null     object \n",
      " 33  What do you think game developers should do to reduce the prevalence of hate on their platforms?                                                                                                                              151 non-null    object \n",
      " 34  If you have any other thoughts or experiences about hate or discrimination in online gaming communities, please share them here.                                                                                              75 non-null     object \n",
      " 35  Please provide your age:                                                                                                                                                                                                      152 non-null    float64\n",
      " 36  How do you describe your race or ethnic identity? (select all that apply) - Selected Choice                                                                                                                                   152 non-null    object \n",
      " 37  How do you describe your race or ethnic identity? (select all that apply) - Prefer to self-describe - Text                                                                                                                    2 non-null      object \n",
      " 38  What is your gender? - Selected Choice                                                                                                                                                                                        152 non-null    object \n",
      " 39  What is your gender? - Prefer to self-describe - Text                                                                                                                                                                         2 non-null      object \n",
      " 40  One more thing… We plan to do followup surveys and/or interviews on this topic, would you be willing to provide your email address so that we can invite you to participate?  We won’t use your email for any other purpose.  152 non-null    object \n",
      " 41  PARTICIPANTID                                                                                                                                                                                                                 175 non-null    int64  \n",
      " 42  coder                                                                                                                                                                                                                         175 non-null    object \n",
      " 43  discrimination_code                                                                                                                                                                                                           122 non-null    object \n",
      " 44  star                                                                                                                                                                                                                          5 non-null      object \n",
      " 45  experience affected behavior                                                                                                                                                                                                  7 non-null      object \n",
      "dtypes: float64(2), int64(1), object(43)\n",
      "memory usage: 63.0+ KB\n"
     ]
    }
   ],
   "source": [
    "# Load Tekko survey data\n",
    "import pandas as pd\n",
    "\n",
    "path = '../data/tekko_responses.csv'\n",
    "responses = pd.read_csv(path)\n",
    "responses.info()"
   ]
  },
  {
   "cell_type": "code",
   "execution_count": 7,
   "id": "1a13b469-b16c-49d4-9ce2-6d0a2fa39dd2",
   "metadata": {},
   "outputs": [
    {
     "name": "stdout",
     "output_type": "stream",
     "text": [
      "<class 'pandas.core.frame.DataFrame'>\n",
      "Index: 152 entries, 23 to 174\n",
      "Data columns (total 6 columns):\n",
      " #   Column                                                                                                       Non-Null Count  Dtype \n",
      "---  ------                                                                                                       --------------  ----- \n",
      " 0   How often do you see the following appear in multiplayer matches? - Ableism (anti-disability) rhetoric       152 non-null    object\n",
      " 1   How often do you see the following appear in multiplayer matches? - Anti-LGBTQ+ slurs                        152 non-null    object\n",
      " 2   How often do you see the following appear in multiplayer matches? - Anti-Jewish slurs                        152 non-null    object\n",
      " 3   How often do you see the following appear in multiplayer matches? - Anti-Muslim slurs                        152 non-null    object\n",
      " 4   How often do you see the following appear in multiplayer matches? - Gender-based discrimination or misogyny  152 non-null    object\n",
      " 5   How often do you see the following appear in multiplayer matches? - Racial Harrassment                       152 non-null    object\n",
      "dtypes: object(6)\n",
      "memory usage: 8.3+ KB\n"
     ]
    },
    {
     "data": {
      "text/html": [
       "<div>\n",
       "<style scoped>\n",
       "    .dataframe tbody tr th:only-of-type {\n",
       "        vertical-align: middle;\n",
       "    }\n",
       "\n",
       "    .dataframe tbody tr th {\n",
       "        vertical-align: top;\n",
       "    }\n",
       "\n",
       "    .dataframe thead th {\n",
       "        text-align: right;\n",
       "    }\n",
       "</style>\n",
       "<table border=\"1\" class=\"dataframe\">\n",
       "  <thead>\n",
       "    <tr style=\"text-align: right;\">\n",
       "      <th></th>\n",
       "      <th>How often do you see the following appear in multiplayer matches? - Ableism (anti-disability) rhetoric</th>\n",
       "      <th>How often do you see the following appear in multiplayer matches? - Anti-LGBTQ+ slurs</th>\n",
       "      <th>How often do you see the following appear in multiplayer matches? - Anti-Jewish slurs</th>\n",
       "      <th>How often do you see the following appear in multiplayer matches? - Anti-Muslim slurs</th>\n",
       "      <th>How often do you see the following appear in multiplayer matches? - Gender-based discrimination or misogyny</th>\n",
       "      <th>How often do you see the following appear in multiplayer matches? - Racial Harrassment</th>\n",
       "    </tr>\n",
       "  </thead>\n",
       "  <tbody>\n",
       "    <tr>\n",
       "      <th>23</th>\n",
       "      <td>Fewer than every 10 games 1</td>\n",
       "      <td>4</td>\n",
       "      <td>3</td>\n",
       "      <td>3</td>\n",
       "      <td>3</td>\n",
       "      <td>3</td>\n",
       "    </tr>\n",
       "    <tr>\n",
       "      <th>24</th>\n",
       "      <td>Fewer than every 10 games 1</td>\n",
       "      <td>Fewer than every 10 games 1</td>\n",
       "      <td>Fewer than every 10 games 1</td>\n",
       "      <td>Fewer than every 10 games 1</td>\n",
       "      <td>Fewer than every 10 games 1</td>\n",
       "      <td>Fewer than every 10 games 1</td>\n",
       "    </tr>\n",
       "    <tr>\n",
       "      <th>25</th>\n",
       "      <td>2</td>\n",
       "      <td>4</td>\n",
       "      <td>Fewer than every 10 games 1</td>\n",
       "      <td>Fewer than every 10 games 1</td>\n",
       "      <td>4</td>\n",
       "      <td>3</td>\n",
       "    </tr>\n",
       "    <tr>\n",
       "      <th>26</th>\n",
       "      <td>Fewer than every 10 games 1</td>\n",
       "      <td>2</td>\n",
       "      <td>2</td>\n",
       "      <td>2</td>\n",
       "      <td>2</td>\n",
       "      <td>3</td>\n",
       "    </tr>\n",
       "    <tr>\n",
       "      <th>27</th>\n",
       "      <td>2</td>\n",
       "      <td>4</td>\n",
       "      <td>2</td>\n",
       "      <td>Fewer than every 10 games 1</td>\n",
       "      <td>4</td>\n",
       "      <td>Almost every game5</td>\n",
       "    </tr>\n",
       "  </tbody>\n",
       "</table>\n",
       "</div>"
      ],
      "text/plain": [
       "   How often do you see the following appear in multiplayer matches? - Ableism (anti-disability) rhetoric  \\\n",
       "23                        Fewer than every 10 games 1                                                       \n",
       "24                        Fewer than every 10 games 1                                                       \n",
       "25                                                  2                                                       \n",
       "26                        Fewer than every 10 games 1                                                       \n",
       "27                                                  2                                                       \n",
       "\n",
       "   How often do you see the following appear in multiplayer matches? - Anti-LGBTQ+ slurs  \\\n",
       "23                                                  4                                      \n",
       "24                        Fewer than every 10 games 1                                      \n",
       "25                                                  4                                      \n",
       "26                                                  2                                      \n",
       "27                                                  4                                      \n",
       "\n",
       "   How often do you see the following appear in multiplayer matches? - Anti-Jewish slurs  \\\n",
       "23                                                  3                                      \n",
       "24                        Fewer than every 10 games 1                                      \n",
       "25                        Fewer than every 10 games 1                                      \n",
       "26                                                  2                                      \n",
       "27                                                  2                                      \n",
       "\n",
       "   How often do you see the following appear in multiplayer matches? - Anti-Muslim slurs  \\\n",
       "23                                                  3                                      \n",
       "24                        Fewer than every 10 games 1                                      \n",
       "25                        Fewer than every 10 games 1                                      \n",
       "26                                                  2                                      \n",
       "27                        Fewer than every 10 games 1                                      \n",
       "\n",
       "   How often do you see the following appear in multiplayer matches? - Gender-based discrimination or misogyny  \\\n",
       "23                                                  3                                                            \n",
       "24                        Fewer than every 10 games 1                                                            \n",
       "25                                                  4                                                            \n",
       "26                                                  2                                                            \n",
       "27                                                  4                                                            \n",
       "\n",
       "   How often do you see the following appear in multiplayer matches? - Racial Harrassment  \n",
       "23                                                  3                                      \n",
       "24                        Fewer than every 10 games 1                                      \n",
       "25                                                  3                                      \n",
       "26                                                  3                                      \n",
       "27                                 Almost every game5                                      "
      ]
     },
     "execution_count": 7,
     "metadata": {},
     "output_type": "execute_result"
    }
   ],
   "source": [
    "# Select and format data\n",
    "discrimination_cols = [col for col in responses.columns if 'How often do you see the following appear in multiplayer matches?' in col]\n",
    "discrimination_responses = responses[discrimination_cols].copy().dropna()\n",
    "discrimination_responses.info()\n",
    "discrimination_responses.head()"
   ]
  },
  {
   "cell_type": "code",
   "execution_count": 20,
   "id": "918044f5-78f9-402f-b792-d5b4cf58e62c",
   "metadata": {},
   "outputs": [
    {
     "data": {
      "text/html": [
       "<div>\n",
       "<style scoped>\n",
       "    .dataframe tbody tr th:only-of-type {\n",
       "        vertical-align: middle;\n",
       "    }\n",
       "\n",
       "    .dataframe tbody tr th {\n",
       "        vertical-align: top;\n",
       "    }\n",
       "\n",
       "    .dataframe thead th {\n",
       "        text-align: right;\n",
       "    }\n",
       "</style>\n",
       "<table border=\"1\" class=\"dataframe\">\n",
       "  <thead>\n",
       "    <tr style=\"text-align: right;\">\n",
       "      <th></th>\n",
       "      <th>ableism</th>\n",
       "      <th>anti_lgbtq</th>\n",
       "      <th>anti_jewish</th>\n",
       "      <th>anti_muslim</th>\n",
       "      <th>misogyny</th>\n",
       "      <th>racism</th>\n",
       "    </tr>\n",
       "  </thead>\n",
       "  <tbody>\n",
       "    <tr>\n",
       "      <th>23</th>\n",
       "      <td>1</td>\n",
       "      <td>4</td>\n",
       "      <td>3</td>\n",
       "      <td>3</td>\n",
       "      <td>3</td>\n",
       "      <td>3</td>\n",
       "    </tr>\n",
       "    <tr>\n",
       "      <th>24</th>\n",
       "      <td>1</td>\n",
       "      <td>1</td>\n",
       "      <td>1</td>\n",
       "      <td>1</td>\n",
       "      <td>1</td>\n",
       "      <td>1</td>\n",
       "    </tr>\n",
       "    <tr>\n",
       "      <th>25</th>\n",
       "      <td>2</td>\n",
       "      <td>4</td>\n",
       "      <td>1</td>\n",
       "      <td>1</td>\n",
       "      <td>4</td>\n",
       "      <td>3</td>\n",
       "    </tr>\n",
       "    <tr>\n",
       "      <th>26</th>\n",
       "      <td>1</td>\n",
       "      <td>2</td>\n",
       "      <td>2</td>\n",
       "      <td>2</td>\n",
       "      <td>2</td>\n",
       "      <td>3</td>\n",
       "    </tr>\n",
       "    <tr>\n",
       "      <th>27</th>\n",
       "      <td>2</td>\n",
       "      <td>4</td>\n",
       "      <td>2</td>\n",
       "      <td>1</td>\n",
       "      <td>4</td>\n",
       "      <td>5</td>\n",
       "    </tr>\n",
       "  </tbody>\n",
       "</table>\n",
       "</div>"
      ],
      "text/plain": [
       "   ableism anti_lgbtq anti_jewish anti_muslim misogyny racism\n",
       "23       1          4           3           3        3      3\n",
       "24       1          1           1           1        1      1\n",
       "25       2          4           1           1        4      3\n",
       "26       1          2           2           2        2      3\n",
       "27       2          4           2           1        4      5"
      ]
     },
     "execution_count": 20,
     "metadata": {},
     "output_type": "execute_result"
    }
   ],
   "source": [
    "discrimination_responses.columns = ['ableism', 'anti_lgbtq', 'anti_jewish', 'anti_muslim', 'misogyny', 'racism']\n",
    "discrimination_responses = discrimination_responses.replace('Fewer than every 10 games 1', 1).replace('Almost every game5', 5).astype(str)\n",
    "discrimination_responses.head()"
   ]
  },
  {
   "cell_type": "code",
   "execution_count": 21,
   "id": "8bb8cd32-b696-42ca-a94e-d4567211387a",
   "metadata": {},
   "outputs": [
    {
     "name": "stdout",
     "output_type": "stream",
     "text": [
      "<class 'pandas.core.frame.DataFrame'>\n",
      "Index: 152 entries, 23 to 174\n",
      "Data columns (total 6 columns):\n",
      " #   Column       Non-Null Count  Dtype \n",
      "---  ------       --------------  ----- \n",
      " 0   ableism      152 non-null    object\n",
      " 1   anti_lgbtq   152 non-null    object\n",
      " 2   anti_jewish  152 non-null    object\n",
      " 3   anti_muslim  152 non-null    object\n",
      " 4   misogyny     152 non-null    object\n",
      " 5   racism       152 non-null    object\n",
      "dtypes: object(6)\n",
      "memory usage: 8.3+ KB\n"
     ]
    }
   ],
   "source": [
    "discrimination_responses.info(verbose=True)"
   ]
  },
  {
   "cell_type": "code",
   "execution_count": 23,
   "id": "4f50a73b-3cfc-4945-8f1e-7d6d5e4ad5b0",
   "metadata": {},
   "outputs": [],
   "source": [
    "# Reorder based on future plots\n",
    "cols_reordered = ['misogyny', 'racism', 'anti_lgbtq', 'ableism', 'anti_jewish', 'anti_muslim']\n",
    "discrimination_responses = discrimination_responses[cols_reordered]"
   ]
  },
  {
   "cell_type": "markdown",
   "id": "2c03b1e4-365b-46a4-be29-a041d067c392",
   "metadata": {},
   "source": [
    "## Create Likert plots"
   ]
  },
  {
   "cell_type": "code",
   "execution_count": 39,
   "id": "9e5064f8-4179-4bd1-8b3e-6f822f40035e",
   "metadata": {},
   "outputs": [
    {
     "data": {
      "text/plain": [
       "['#ffffff00',\n",
       " 'darkblue',\n",
       " 'cornflowerblue',\n",
       " 'gainsboro',\n",
       " 'lightcoral',\n",
       " 'firebrick']"
      ]
     },
     "execution_count": 39,
     "metadata": {},
     "output_type": "execute_result"
    }
   ],
   "source": [
    "import plot_likert\n",
    "\n",
    "# colorscheme = plot_likert.colors.likert5\n",
    "colorscheme = plot_likert.colors.default\n",
    "\n",
    "reversed_likert5 = [colorscheme[0]] + list(reversed(colorscheme[1:6]))\n",
    "reversed_likert5"
   ]
  },
  {
   "cell_type": "code",
   "execution_count": 40,
   "id": "5ef24df1-e86d-4a4f-99a7-87c7e806259a",
   "metadata": {},
   "outputs": [
    {
     "name": "stderr",
     "output_type": "stream",
     "text": [
      "/mnt/c/Users/mamille3/research/gaming_voice_chat/conda_env/lib/python3.12/site-packages/plot_likert/plot_likert.py:257: FutureWarning: DataFrame.applymap has been deprecated. Use DataFrame.map instead.\n",
      "  df.applymap(validate)\n"
     ]
    },
    {
     "data": {
      "text/plain": [
       "<Axes: xlabel='Number of Responses'>"
      ]
     },
     "execution_count": 40,
     "metadata": {},
     "output_type": "execute_result"
    },
    {
     "data": {
      "image/png": "[encoded data removed]",
      "text/plain": [
       "<Figure size 640x480 with 1 Axes>"
      ]
     },
     "metadata": {},
     "output_type": "display_data"
    }
   ],
   "source": [
    "import plot_likert\n",
    "\n",
    "plot_likert.plot_likert(discrimination_responses, plot_likert.scales.raw5, colors=reversed_likert5)"
   ]
  }
 ],
 "metadata": {
  "kernelspec": {
   "display_name": "Python 3 (ipykernel)",
   "language": "python",
   "name": "python3"
  },
  "language_info": {
   "codemirror_mode": {
    "name": "ipython",
    "version": 3
   },
   "file_extension": ".py",
   "mimetype": "text/x-python",
   "name": "python",
   "nbconvert_exporter": "python",
   "pygments_lexer": "ipython3",
   "version": "3.12.2"
  }
 },
 "nbformat": 4,
 "nbformat_minor": 5
}
